{
 "cells": [
  {
   "attachments": {},
   "cell_type": "markdown",
   "metadata": {},
   "source": [
    "## Dipole Current Distribution using Method of Moments\n",
    "As described in Antenna Theory and Design by Constantine Balanis"
   ]
  },
  {
   "attachments": {},
   "cell_type": "markdown",
   "metadata": {},
   "source": [
    "#### Imports"
   ]
  },
  {
   "cell_type": "code",
   "execution_count": 34,
   "metadata": {},
   "outputs": [],
   "source": [
    "import numpy as np\n",
    "import matplotlib.pyplot as plt"
   ]
  },
  {
   "attachments": {},
   "cell_type": "markdown",
   "metadata": {},
   "source": [
    "#### Specify Geometry"
   ]
  },
  {
   "cell_type": "code",
   "execution_count": 35,
   "metadata": {},
   "outputs": [],
   "source": [
    "N = 101 # Number of Segments\n",
    "l = 0.47 # Length in wavelengths\n",
    "a = 0.005 # Radius in wavelengths "
   ]
  },
  {
   "attachments": {},
   "cell_type": "markdown",
   "metadata": {},
   "source": [
    "#### Current Distribution Calculation"
   ]
  },
  {
   "attachments": {},
   "cell_type": "markdown",
   "metadata": {},
   "source": [
    "Pocklington’s integral equation"
   ]
  },
  {
   "cell_type": "code",
   "execution_count": 36,
   "metadata": {},
   "outputs": [],
   "source": [
    "def pock_eqn(zm, zn, a):\n",
    "    k = 2*np.pi\n",
    "    R = np.sqrt(a**2+(zm-zn)**2)\n",
    "    return np.exp(-1j*k*R)/(4*np.pi*R**5)*((1+1j*k*R)*(2*R**2-3*a**2)+(k*a*R)**2)"
   ]
  },
  {
   "attachments": {},
   "cell_type": "markdown",
   "metadata": {},
   "source": [
    "Solve for Current Distribution using Method of Moments"
   ]
  },
  {
   "cell_type": "code",
   "execution_count": 37,
   "metadata": {},
   "outputs": [],
   "source": [
    "delta = l/N\n",
    "s = 10000\n",
    "E = np.zeros((N,1), dtype=complex)\n",
    "E[int(np.floor(N/2))] = -1j*2*np.pi/(120*np.pi*delta);\n",
    "Z = np.zeros((N,N), dtype=complex)\n",
    "for m in range (N):\n",
    "    zm = -l/2+(m+0.5)*delta\n",
    "    for n in range (N):\n",
    "        zn = -l/2+(n+0.5)*delta\n",
    "        Z[m,n] = np.sum(pock_eqn(zm, np.linspace(zn-0.5*delta, zn+0.5*delta, s), a))*delta/s\n",
    "I = np.linalg.solve(Z,E)"
   ]
  },
  {
   "attachments": {},
   "cell_type": "markdown",
   "metadata": {},
   "source": [
    "#### Current Distribution Plot"
   ]
  },
  {
   "cell_type": "code",
   "execution_count": 46,
   "metadata": {},
   "outputs": [
    {
     "data": {
      "text/plain": [
       "Text(0, 0.5, 'Normalized Current Magnitude')"
      ]
     },
     "execution_count": 46,
     "metadata": {},
     "output_type": "execute_result"
    },
    {
     "data": {
      "image/png": "[encoded data removed]",
      "text/plain": [
       "<Figure size 432x288 with 1 Axes>"
      ]
     },
     "metadata": {
      "needs_background": "light"
     },
     "output_type": "display_data"
    }
   ],
   "source": [
    "plt.figure()\n",
    "plt.plot(np.linspace(0,l,N) - l/2, np.abs(I / np.max(np.abs(I))))\n",
    "plt.title(\"Current Distribution\")\n",
    "plt.xlabel(\"Distance from Feedpoint\")\n",
    "plt.ylabel(\"Normalized Current Magnitude\")"
   ]
  },
  {
   "attachments": {},
   "cell_type": "markdown",
   "metadata": {},
   "source": [
    "Impedance Calculation"
   ]
  },
  {
   "cell_type": "code",
   "execution_count": 39,
   "metadata": {},
   "outputs": [
    {
     "data": {
      "text/plain": [
       "array([82.34744353+8.91500724j])"
      ]
     },
     "execution_count": 39,
     "metadata": {},
     "output_type": "execute_result"
    }
   ],
   "source": [
    "1/I[int(np.floor(N/2))]"
   ]
  }
 ],
 "metadata": {
  "kernelspec": {
   "display_name": "base",
   "language": "python",
   "name": "python3"
  },
  "language_info": {
   "codemirror_mode": {
    "name": "ipython",
    "version": 3
   },
   "file_extension": ".py",
   "mimetype": "text/x-python",
   "name": "python",
   "nbconvert_exporter": "python",
   "pygments_lexer": "ipython3",
   "version": "3.9.12"
  },
  "orig_nbformat": 4,
  "vscode": {
   "interpreter": {
    "hash": "ca8f103ea987b225e34385eeac93a827c58d69467b80c53d3463034be0fddec3"
   }
  }
 },
 "nbformat": 4,
 "nbformat_minor": 2
}
